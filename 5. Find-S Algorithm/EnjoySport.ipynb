{
 "cells": [
  {
   "cell_type": "markdown",
   "id": "e473a429",
   "metadata": {},
   "source": [
    "# Find-S Algorithm"
   ]
  },
  {
   "cell_type": "code",
   "execution_count": 18,
   "id": "349a7294",
   "metadata": {},
   "outputs": [],
   "source": [
    "import pandas as pd\n",
    "import numpy as np"
   ]
  },
  {
   "cell_type": "code",
   "execution_count": 19,
   "id": "6be8b455",
   "metadata": {},
   "outputs": [
    {
     "data": {
      "text/html": [
       "<div>\n",
       "<style scoped>\n",
       "    .dataframe tbody tr th:only-of-type {\n",
       "        vertical-align: middle;\n",
       "    }\n",
       "\n",
       "    .dataframe tbody tr th {\n",
       "        vertical-align: top;\n",
       "    }\n",
       "\n",
       "    .dataframe thead th {\n",
       "        text-align: right;\n",
       "    }\n",
       "</style>\n",
       "<table border=\"1\" class=\"dataframe\">\n",
       "  <thead>\n",
       "    <tr style=\"text-align: right;\">\n",
       "      <th></th>\n",
       "      <th>AirTemp</th>\n",
       "      <th>Humidity</th>\n",
       "      <th>Wind</th>\n",
       "      <th>Water</th>\n",
       "      <th>Forecast</th>\n",
       "      <th>EnjoySport</th>\n",
       "    </tr>\n",
       "  </thead>\n",
       "  <tbody>\n",
       "    <tr>\n",
       "      <th>0</th>\n",
       "      <td>Warm</td>\n",
       "      <td>Normal</td>\n",
       "      <td>Strong</td>\n",
       "      <td>Warm</td>\n",
       "      <td>Same</td>\n",
       "      <td>Yes</td>\n",
       "    </tr>\n",
       "    <tr>\n",
       "      <th>1</th>\n",
       "      <td>Warm</td>\n",
       "      <td>High</td>\n",
       "      <td>Strong</td>\n",
       "      <td>Warm</td>\n",
       "      <td>Same</td>\n",
       "      <td>Yes</td>\n",
       "    </tr>\n",
       "    <tr>\n",
       "      <th>2</th>\n",
       "      <td>Cold</td>\n",
       "      <td>High</td>\n",
       "      <td>Strong</td>\n",
       "      <td>Warm</td>\n",
       "      <td>Change</td>\n",
       "      <td>No</td>\n",
       "    </tr>\n",
       "    <tr>\n",
       "      <th>3</th>\n",
       "      <td>Warm</td>\n",
       "      <td>High</td>\n",
       "      <td>Strong</td>\n",
       "      <td>Cool</td>\n",
       "      <td>Change</td>\n",
       "      <td>Yes</td>\n",
       "    </tr>\n",
       "  </tbody>\n",
       "</table>\n",
       "</div>"
      ],
      "text/plain": [
       "  AirTemp Humidity    Wind Water Forecast EnjoySport\n",
       "0    Warm   Normal  Strong  Warm     Same        Yes\n",
       "1    Warm     High  Strong  Warm     Same        Yes\n",
       "2    Cold     High  Strong  Warm   Change         No\n",
       "3    Warm     High  Strong  Cool   Change        Yes"
      ]
     },
     "execution_count": 19,
     "metadata": {},
     "output_type": "execute_result"
    }
   ],
   "source": [
    "data = pd.read_csv(\"EnjoySport.csv\")\n",
    "data.head()"
   ]
  },
  {
   "cell_type": "code",
   "execution_count": 20,
   "id": "2887ba9a",
   "metadata": {},
   "outputs": [
    {
     "name": "stdout",
     "output_type": "stream",
     "text": [
      "n The attributes are:  [['Warm' 'Normal' 'Strong' 'Warm' 'Same']\n",
      " ['Warm' 'High' 'Strong' 'Warm' 'Same']\n",
      " ['Cold' 'High' 'Strong' 'Warm' 'Change']\n",
      " ['Warm' 'High' 'Strong' 'Cool' 'Change']]\n"
     ]
    }
   ],
   "source": [
    "df = np.array(data)[:,:-1]\n",
    "print(\"n The attributes are: \",df)"
   ]
  },
  {
   "cell_type": "code",
   "execution_count": 21,
   "id": "063a183c",
   "metadata": {},
   "outputs": [
    {
     "name": "stdout",
     "output_type": "stream",
     "text": [
      "n The target is:  ['Yes' 'Yes' 'No' 'Yes']\n"
     ]
    }
   ],
   "source": [
    "target = np.array(data)[:,-1]\n",
    "print(\"n The target is: \",target)"
   ]
  },
  {
   "cell_type": "code",
   "execution_count": 30,
   "id": "13b91bdc",
   "metadata": {},
   "outputs": [],
   "source": [
    "def train(c, targ):\n",
    "    for i, val in enumerate(targ):\n",
    "        if val == \"Yes\":\n",
    "            specific_hypothesis = c[i].copy()\n",
    "            break\n",
    "        for i,val in enumerate(c):\n",
    "            if targ[i] == \"Yes\":\n",
    "                for x in range(len(specific_hypothesis)):\n",
    "                    if val[x] != specific_hypothesis[x]:\n",
    "                        specific_hypothesis[x] = \"?\"\n",
    "            else:\n",
    "                pass\n",
    "    return specific_hypothesis\n"
   ]
  },
  {
   "cell_type": "code",
   "execution_count": 31,
   "id": "085cc104",
   "metadata": {},
   "outputs": [
    {
     "data": {
      "text/plain": [
       "array(['Warm', 'Normal', 'Strong', 'Warm', 'Same'], dtype=object)"
      ]
     },
     "execution_count": 31,
     "metadata": {},
     "output_type": "execute_result"
    }
   ],
   "source": [
    "train(df, target)"
   ]
  },
  {
   "cell_type": "code",
   "execution_count": 33,
   "id": "460a8b3f",
   "metadata": {},
   "outputs": [
    {
     "name": "stdout",
     "output_type": "stream",
     "text": [
      "  AirTemp Humidity    Wind Water Forecast EnjoySport\n",
      "0    Warm   Normal  Strong  Warm     Same        Yes\n",
      "1    Warm     High  Strong  Warm     Same        Yes\n",
      "2    Cold     High  Strong  Warm   Change         No\n",
      "3    Warm     High  Strong  Cool   Change        Yes n\n",
      "n The attributes are:  [['Warm' 'Normal' 'Strong' 'Warm' 'Same']\n",
      " ['Warm' 'High' 'Strong' 'Warm' 'Same']\n",
      " ['Cold' 'High' 'Strong' 'Warm' 'Change']\n",
      " ['Warm' 'High' 'Strong' 'Cool' 'Change']]\n",
      "n The target is:  ['Yes' 'Yes' 'No' 'Yes']\n",
      "n The final hypothesis is: ['Warm' '?' 'Strong' '?' '?']\n"
     ]
    }
   ],
   "source": [
    "#to read the data in the csv file\n",
    "data = pd.read_csv(\"enjoySport.csv\")\n",
    "print(data,\"n\")\n",
    "\n",
    "#making an array of all the attributes\n",
    "d = np.array(data)[:,:-1]\n",
    "print(\"n The attributes are: \",d)\n",
    "\n",
    "#segragating the target that has positive and negative examples\n",
    "target = np.array(data)[:,-1]\n",
    "print(\"n The target is: \",target)\n",
    "\n",
    "#training function to implement find-s algorithm\n",
    "def train(c,t):\n",
    "    for i, val in enumerate(t):\n",
    "        if val == \"Yes\":\n",
    "            specific_hypothesis = c[i].copy()\n",
    "            break\n",
    "\n",
    "    for i, val in enumerate(c):\n",
    "        if t[i] == \"Yes\":\n",
    "            for x in range(len(specific_hypothesis)):\n",
    "                if val[x] != specific_hypothesis[x]:\n",
    "                    specific_hypothesis[x] = '?'\n",
    "        else:\n",
    "            pass\n",
    "\n",
    "    return specific_hypothesis\n",
    "\n",
    "#obtaining the final hypothesis\n",
    "print(\"n The final hypothesis is:\",train(d,target))"
   ]
  },
  {
   "cell_type": "code",
   "execution_count": null,
   "id": "1f5a3df1",
   "metadata": {},
   "outputs": [],
   "source": []
  }
 ],
 "metadata": {
  "kernelspec": {
   "display_name": "Python 3 (ipykernel)",
   "language": "python",
   "name": "python3"
  },
  "language_info": {
   "codemirror_mode": {
    "name": "ipython",
    "version": 3
   },
   "file_extension": ".py",
   "mimetype": "text/x-python",
   "name": "python",
   "nbconvert_exporter": "python",
   "pygments_lexer": "ipython3",
   "version": "3.9.7"
  }
 },
 "nbformat": 4,
 "nbformat_minor": 5
}
